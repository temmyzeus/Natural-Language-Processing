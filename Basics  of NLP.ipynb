{
 "cells": [
  {
   "cell_type": "markdown",
   "id": "6c94c777-f7ec-43b4-9944-a52d29c3a954",
   "metadata": {},
   "source": [
    "1. Tokenization\n",
    "2. Stemming\n",
    "3. Lemmatization\n",
    "4. Bag of Words(BoW)\n",
    "5. Tf-Idf"
   ]
  },
  {
   "cell_type": "markdown",
   "id": "71302a49-1f4c-4aa6-8645-ac0628b33709",
   "metadata": {},
   "source": [
    "## Tokenization\n",
    "Tokenzation is the breaking down of a sentence into smaller units, tokenization entails splitting a text into meaningful segments. The breaking down can be done by certain heuristic\n",
    "1. Word Tokenization a.k.a Word Segmentation\n",
    "2. Sentence Tokenization a.k.a Sentence Segmentation\n",
    "\n",
    "#### Word Tokenization\n",
    "This entails breaking word a sentence words by words, seperating them at every whitespace(s) i.e the whitespace serves as a delimiter.\n",
    "An Example is below in python"
   ]
  },
  {
   "cell_type": "code",
   "execution_count": 1,
   "id": "1cba107d-845f-4334-a15e-0180d0137a64",
   "metadata": {},
   "outputs": [
    {
     "name": "stdout",
     "output_type": "stream",
     "text": [
      "['I', 'will,', 'in', 'fact,', 'claim', 'that', 'the', 'difference', 'between', 'a', 'bad', 'programmer', 'and', 'a', 'good', 'one', 'is', 'whetherhe', 'considers', 'his', 'code', 'or', 'his', 'data', 'structures', 'more', 'important.', 'Bad', 'programmers', 'worry', 'aboutthe', 'code.', 'Good', 'programmers', 'worry', 'about', 'data', 'structures', 'and', 'their', 'relationships.—', 'Linus', 'TorvaldsThis', 'chapter', 'is', 'a', 'light', 'introduction', 'to', 'algorithms', 'and', 'data', 'structures,', 'perhaps', 'the', 'mostimportant', 'subject', 'in', 'Computer', 'Science.', 'The', 'title', 'of', 'the', 'influential', 'book', 'Algorithms', '+', 'DataStructures', '=', 'Programs', 'summarizes', 'their', 'importance.', 'My', 'goal', 'in', 'this', 'chapter', 'is', 'to', 'introduceyou', 'to', 'the', 'subject,', 'and', 'clarify', 'some', 'things', 'I', 'found', 'confusing', 'when', 'I', 'was', 'learning', 'about', 'them(which', 'I', 'still', 'am).', 'In', 'addition', 'to', 'reading', 'this', 'chapter,', 'you', 'definitely', 'need', 'to', 'read', 'more', 'aboutalgorithms', 'and', 'data', 'structures', 'outside', 'of', 'this', 'book,', 'and', 'also', 'spend', 'a', 'lot', 'of', 'time', 'practicing', 'theconcepts', 'introduced', 'here.', 'Many', 'of', 'the', 'examples', 'in', 'this', 'chapter', 'come', 'from', 'the', 'amazing', 'bookPython', 'Algorithms', 'and', 'Data', 'Structures', 'by', 'Brad', 'Miller', 'and', 'David', 'Ranum.', 'It', 'is', 'one', 'ofmy', 'favorite', 'books,', 'available', 'online', 'for', 'free', 'at:', 'http:\\\\interactivepython.org']\n"
     ]
    }
   ],
   "source": [
    "def tokenize_word(sent: str) -> list:\n",
    "    \"\"\"Tokenize sentence word by words\n",
    "    \n",
    "    Args:\n",
    "        sent: [str]\n",
    "    \"\"\"\n",
    "    return sent.split(\" \")\n",
    "\n",
    "text =  \"I will, in fact, claim that the difference between a bad programmer and a good one is whether\"\\\n",
    "        \"he considers his code or his data structures more important. Bad programmers worry about\"\\\n",
    "        \"the code. Good programmers worry about data structures and their relationships.\"\\\n",
    "        \"— Linus Torvalds\"\\\n",
    "        \"This chapter is a light introduction to algorithms and data structures, perhaps the most\"\\\n",
    "        \"important subject in Computer Science. The title of the influential book Algorithms + Data\"\\\n",
    "        \"Structures = Programs summarizes their importance. My goal in this chapter is to introduce\"\\\n",
    "        \"you to the subject, and clarify some things I found confusing when I was learning about them\"\\\n",
    "        \"(which I still am). In addition to reading this chapter, you definitely need to read more about\"\\\n",
    "        \"algorithms and data structures outside of this book, and also spend a lot of time practicing the\"\\\n",
    "        \"concepts introduced here. Many of the examples in this chapter come from the amazing book\"\\\n",
    "        \"Python Algorithms and Data Structures by Brad Miller and David Ranum. It is one of\"\\\n",
    "        \"my favorite books, available online for free at: http:\\\\interactivepython.org\"\n",
    "\n",
    "print(tokenize_word(text))"
   ]
  },
  {
   "cell_type": "markdown",
   "id": "561abb8a-775e-4470-a9dc-7feaad497502",
   "metadata": {},
   "source": [
    "Using the nltk and spacy libraries"
   ]
  },
  {
   "cell_type": "code",
   "execution_count": 2,
   "id": "577a61c0-726e-49ca-885d-87477d14e443",
   "metadata": {},
   "outputs": [
    {
     "name": "stdout",
     "output_type": "stream",
     "text": [
      "['I', 'will', ',', 'in', 'fact', ',', 'claim', 'that', 'the', 'difference', 'between', 'a', 'bad', 'programmer', 'and', 'a', 'good', 'one', 'is', 'whetherhe', 'considers', 'his', 'code', 'or', 'his', 'data', 'structures', 'more', 'important', '.', 'Bad', 'programmers', 'worry', 'aboutthe', 'code', '.', 'Good', 'programmers', 'worry', 'about', 'data', 'structures', 'and', 'their', 'relationships.—', 'Linus', 'TorvaldsThis', 'chapter', 'is', 'a', 'light', 'introduction', 'to', 'algorithms', 'and', 'data', 'structures', ',', 'perhaps', 'the', 'mostimportant', 'subject', 'in', 'Computer', 'Science', '.', 'The', 'title', 'of', 'the', 'influential', 'book', 'Algorithms', '+', 'DataStructures', '=', 'Programs', 'summarizes', 'their', 'importance', '.', 'My', 'goal', 'in', 'this', 'chapter', 'is', 'to', 'introduceyou', 'to', 'the', 'subject', ',', 'and', 'clarify', 'some', 'things', 'I', 'found', 'confusing', 'when', 'I', 'was', 'learning', 'about', 'them', '(', 'which', 'I', 'still', 'am', ')', '.', 'In', 'addition', 'to', 'reading', 'this', 'chapter', ',', 'you', 'definitely', 'need', 'to', 'read', 'more', 'aboutalgorithms', 'and', 'data', 'structures', 'outside', 'of', 'this', 'book', ',', 'and', 'also', 'spend', 'a', 'lot', 'of', 'time', 'practicing', 'theconcepts', 'introduced', 'here', '.', 'Many', 'of', 'the', 'examples', 'in', 'this', 'chapter', 'come', 'from', 'the', 'amazing', 'bookPython', 'Algorithms', 'and', 'Data', 'Structures', 'by', 'Brad', 'Miller', 'and', 'David', 'Ranum', '.', 'It', 'is', 'one', 'ofmy', 'favorite', 'books', ',', 'available', 'online', 'for', 'free', 'at', ':', 'http', ':', '\\\\interactivepython.org']\n"
     ]
    }
   ],
   "source": [
    "# Using nltk\n",
    "import nltk\n",
    "print(nltk.word_tokenize(text))"
   ]
  },
  {
   "cell_type": "code",
   "execution_count": 3,
   "id": "81394fd6-06b5-4bb4-a2cd-26a5990869f3",
   "metadata": {},
   "outputs": [
    {
     "name": "stdout",
     "output_type": "stream",
     "text": [
      "['I', 'will', ',', 'in', 'fact', ',', 'claim', 'that', 'the', 'difference', 'between', 'a', 'bad', 'programmer', 'and', 'a', 'good', 'one', 'is', 'whetherhe', 'considers', 'his', 'code', 'or', 'his', 'data', 'structures', 'more', 'important', '.', 'Bad', 'programmers', 'worry', 'aboutthe', 'code', '.', 'Good', 'programmers', 'worry', 'about', 'data', 'structures', 'and', 'their', 'relationships', '.', '—', 'Linus', 'TorvaldsThis', 'chapter', 'is', 'a', 'light', 'introduction', 'to', 'algorithms', 'and', 'data', 'structures', ',', 'perhaps', 'the', 'mostimportant', 'subject', 'in', 'Computer', 'Science', '.', 'The', 'title', 'of', 'the', 'influential', 'book', 'Algorithms', '+', 'DataStructures', '=', 'Programs', 'summarizes', 'their', 'importance', '.', 'My', 'goal', 'in', 'this', 'chapter', 'is', 'to', 'introduceyou', 'to', 'the', 'subject', ',', 'and', 'clarify', 'some', 'things', 'I', 'found', 'confusing', 'when', 'I', 'was', 'learning', 'about', 'them(which', 'I', 'still', 'am', ')', '.', 'In', 'addition', 'to', 'reading', 'this', 'chapter', ',', 'you', 'definitely', 'need', 'to', 'read', 'more', 'aboutalgorithms', 'and', 'data', 'structures', 'outside', 'of', 'this', 'book', ',', 'and', 'also', 'spend', 'a', 'lot', 'of', 'time', 'practicing', 'theconcepts', 'introduced', 'here', '.', 'Many', 'of', 'the', 'examples', 'in', 'this', 'chapter', 'come', 'from', 'the', 'amazing', 'bookPython', 'Algorithms', 'and', 'Data', 'Structures', 'by', 'Brad', 'Miller', 'and', 'David', 'Ranum', '.', 'It', 'is', 'one', 'ofmy', 'favorite', 'books', ',', 'available', 'online', 'for', 'free', 'at', ':', 'http:\\\\interactivepython.org']\n"
     ]
    }
   ],
   "source": [
    "# Using Spacy\n",
    "import spacy\n",
    "nlp = spacy.load(\"en_core_web_sm\")\n",
    "doc = nlp(text)\n",
    "print([token.text for token in doc])"
   ]
  },
  {
   "cell_type": "markdown",
   "id": "baa068df-e523-4895-8d9d-778e50505c1f",
   "metadata": {},
   "source": [
    "#### Sentence Tokenization\n",
    "This breaks down a larger sentence into a smaller subsentences, mostly punctuations serve as a delimiter for each smaller sentence of which the fullstop(.) is made use of mostly."
   ]
  },
  {
   "cell_type": "code",
   "execution_count": 4,
   "id": "017c25ac-bd5a-46a1-8ee6-8bd653f62f0a",
   "metadata": {},
   "outputs": [
    {
     "name": "stdout",
     "output_type": "stream",
     "text": [
      "['I will, in fact, claim that the difference between a bad programmer and a good one is whetherhe considers his code or his data structures more important', 'Bad programmers worry aboutthe code', 'Good programmers worry about data structures and their relationships', '— Linus TorvaldsThis chapter is a light introduction to algorithms and data structures, perhaps the mostimportant subject in Computer Science', 'The title of the influential book Algorithms + DataStructures = Programs summarizes their importance', 'My goal in this chapter is to introduceyou to the subject, and clarify some things I found confusing when I was learning about them(which I still am)', 'In addition to reading this chapter, you definitely need to read more aboutalgorithms and data structures outside of this book, and also spend a lot of time practicing theconcepts introduced here', 'Many of the examples in this chapter come from the amazing bookPython Algorithms and Data Structures by Brad Miller and David Ranum', 'It is one ofmy favorite books, available online for free at: http:\\\\interactivepython', 'org']\n"
     ]
    }
   ],
   "source": [
    "def tokenize_sent(sent: str) -> list:\n",
    "    \"\"\"Tokenize sentence word by words\n",
    "    \n",
    "    Args:\n",
    "        sent: [str]\n",
    "    \"\"\"\n",
    "    return [token.strip(\" \") for token in sent.split(\".\")]\n",
    "\n",
    "print(tokenize_sent(text))"
   ]
  },
  {
   "cell_type": "code",
   "execution_count": 5,
   "id": "f5d6428e-2b01-40d1-90ab-0dce9cb89d60",
   "metadata": {},
   "outputs": [
    {
     "name": "stdout",
     "output_type": "stream",
     "text": [
      "['I will, in fact, claim that the difference between a bad programmer and a good one is whetherhe considers his code or his data structures more important.', 'Bad programmers worry aboutthe code.', 'Good programmers worry about data structures and their relationships.— Linus TorvaldsThis chapter is a light introduction to algorithms and data structures, perhaps the mostimportant subject in Computer Science.', 'The title of the influential book Algorithms + DataStructures = Programs summarizes their importance.', 'My goal in this chapter is to introduceyou to the subject, and clarify some things I found confusing when I was learning about them(which I still am).', 'In addition to reading this chapter, you definitely need to read more aboutalgorithms and data structures outside of this book, and also spend a lot of time practicing theconcepts introduced here.', 'Many of the examples in this chapter come from the amazing bookPython Algorithms and Data Structures by Brad Miller and David Ranum.', 'It is one ofmy favorite books, available online for free at: http:\\\\interactivepython.org']\n"
     ]
    }
   ],
   "source": [
    "print(nltk.sent_tokenize(text))"
   ]
  },
  {
   "cell_type": "markdown",
   "id": "73be54cc-2a70-4db3-a787-c68fe2fa06dd",
   "metadata": {},
   "source": [
    "## Stemming"
   ]
  },
  {
   "cell_type": "code",
   "execution_count": 6,
   "id": "93525f7e-d1f6-4d89-a0a0-880196c30dd2",
   "metadata": {},
   "outputs": [],
   "source": [
    "stemmer = nltk.stem.PorterStemmer()"
   ]
  },
  {
   "cell_type": "code",
   "execution_count": 7,
   "id": "a8e67994-e3c0-4d7b-a270-591a5e738ae3",
   "metadata": {},
   "outputs": [
    {
     "data": {
      "text/plain": [
       "'histori'"
      ]
     },
     "execution_count": 7,
     "metadata": {},
     "output_type": "execute_result"
    }
   ],
   "source": [
    "stemmer.stem(\"history\")"
   ]
  },
  {
   "cell_type": "code",
   "execution_count": null,
   "id": "17285868-c665-433c-80a2-c287a439f38a",
   "metadata": {},
   "outputs": [],
   "source": []
  }
 ],
 "metadata": {
  "kernelspec": {
   "display_name": "Python 3",
   "language": "python",
   "name": "python3"
  },
  "language_info": {
   "codemirror_mode": {
    "name": "ipython",
    "version": 3
   },
   "file_extension": ".py",
   "mimetype": "text/x-python",
   "name": "python",
   "nbconvert_exporter": "python",
   "pygments_lexer": "ipython3",
   "version": "3.9.1"
  }
 },
 "nbformat": 4,
 "nbformat_minor": 5
}
